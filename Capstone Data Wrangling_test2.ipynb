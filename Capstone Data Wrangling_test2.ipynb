{
 "cells": [
  {
   "cell_type": "code",
   "execution_count": 1,
   "metadata": {},
   "outputs": [],
   "source": [
    "import numpy as np\n",
    "import pandas as pd\n",
    "import json\n",
    "import ndjson\n",
    "import os\n",
    "import pdb"
   ]
  },
  {
   "cell_type": "code",
   "execution_count": 2,
   "metadata": {},
   "outputs": [
    {
     "data": {
      "text/plain": [
       "'C:\\\\Users\\\\PCCR\\\\SB\\\\Capstone'"
      ]
     },
     "execution_count": 2,
     "metadata": {},
     "output_type": "execute_result"
    }
   ],
   "source": [
    "os.getcwd()"
   ]
  },
  {
   "cell_type": "code",
   "execution_count": 4,
   "metadata": {},
   "outputs": [],
   "source": [
    "# set column width because of the max characters of 140 allowed in a tweet\n",
    "pd.options.display.max_colwidth=150"
   ]
  },
  {
   "cell_type": "code",
   "execution_count": 5,
   "metadata": {},
   "outputs": [],
   "source": [
    "# read the entire file into a python array\n",
    "with open('realdonaldtrump.ndjson', encoding='utf8') as f:\n",
    "    data = ndjson.load(f)\n"
   ]
  },
  {
   "cell_type": "code",
   "execution_count": 7,
   "metadata": {},
   "outputs": [],
   "source": [
    "#place file into a dataframe for further exploratoritive use\n",
    "df = pd.DataFrame(data)"
   ]
  },
  {
   "cell_type": "code",
   "execution_count": 10,
   "metadata": {},
   "outputs": [
    {
     "data": {
      "text/html": [
       "<div>\n",
       "<style scoped>\n",
       "    .dataframe tbody tr th:only-of-type {\n",
       "        vertical-align: middle;\n",
       "    }\n",
       "\n",
       "    .dataframe tbody tr th {\n",
       "        vertical-align: top;\n",
       "    }\n",
       "\n",
       "    .dataframe thead th {\n",
       "        text-align: right;\n",
       "    }\n",
       "</style>\n",
       "<table border=\"1\" class=\"dataframe\">\n",
       "  <thead>\n",
       "    <tr style=\"text-align: right;\">\n",
       "      <th></th>\n",
       "      <th>contributors</th>\n",
       "      <th>coordinates</th>\n",
       "      <th>created_at</th>\n",
       "      <th>entities</th>\n",
       "      <th>extended_entities</th>\n",
       "      <th>favorite_count</th>\n",
       "      <th>favorited</th>\n",
       "      <th>geo</th>\n",
       "      <th>id</th>\n",
       "      <th>id_str</th>\n",
       "      <th>...</th>\n",
       "      <th>retweeted</th>\n",
       "      <th>retweeted_status</th>\n",
       "      <th>scopes</th>\n",
       "      <th>source</th>\n",
       "      <th>text</th>\n",
       "      <th>truncated</th>\n",
       "      <th>user</th>\n",
       "      <th>withheld_copyright</th>\n",
       "      <th>withheld_in_countries</th>\n",
       "      <th>withheld_scope</th>\n",
       "    </tr>\n",
       "  </thead>\n",
       "  <tbody>\n",
       "  </tbody>\n",
       "</table>\n",
       "<p>0 rows × 34 columns</p>\n",
       "</div>"
      ],
      "text/plain": [
       "Empty DataFrame\n",
       "Columns: [contributors, coordinates, created_at, entities, extended_entities, favorite_count, favorited, geo, id, id_str, in_reply_to_screen_name, in_reply_to_status_id, in_reply_to_status_id_str, in_reply_to_user_id, in_reply_to_user_id_str, is_quote_status, lang, place, possibly_sensitive, quoted_status, quoted_status_id, quoted_status_id_str, retrieved_utc, retweet_count, retweeted, retweeted_status, scopes, source, text, truncated, user, withheld_copyright, withheld_in_countries, withheld_scope]\n",
       "Index: []\n",
       "\n",
       "[0 rows x 34 columns]"
      ]
     },
     "execution_count": 10,
     "metadata": {},
     "output_type": "execute_result"
    }
   ],
   "source": [
    "# creating bool series True for NaN values  \n",
    "bool_series = pd.isnull(df['retweet_count'])  \n",
    "    \n",
    "# filtering data\n",
    "df[bool_series]  "
   ]
  },
  {
   "cell_type": "markdown",
   "metadata": {},
   "source": [
    "\n",
    "# Clean the data by:\n",
    "\n",
    "1. Removing all irrelevant characters such as any non alphanumeric characters\n",
    "2. Tokenize the text by separating it into individual words\n",
    "3. Remove words that are not relevant, such as “@” twitter mentions or urls\n",
    "4. Convert all characters to lowercase, in order to treat words such as “hello”, “Hello”, and “HELLO” the same\n",
    "5. Considering combining misspelled or alternately spelled words to a single representation (e.g. “cool”/”kewl”/”cooool”)\n",
    "6. Considering lemmatization (reduce words such as “am”, “are”, and “is” to a common form such as “be”)"
   ]
  },
  {
   "cell_type": "code",
   "execution_count": 12,
   "metadata": {},
   "outputs": [],
   "source": [
    "df_new = pd.DataFrame(df, columns = ('retweet_count', 'text'))"
   ]
  },
  {
   "cell_type": "code",
   "execution_count": 13,
   "metadata": {},
   "outputs": [
    {
     "data": {
      "text/plain": [
       "retweet_count                                                                                                                                          26771\n",
       "text             ....People do not yet realize how much of the Wall, including really effective renovation, has already been built.… https://t.co/F3FHCcgD7U\n",
       "Name: 37329, dtype: object"
      ]
     },
     "execution_count": 13,
     "metadata": {},
     "output_type": "execute_result"
    }
   ],
   "source": [
    "df_new.iloc[37329]\n"
   ]
  },
  {
   "cell_type": "code",
   "execution_count": 14,
   "metadata": {},
   "outputs": [
    {
     "data": {
      "text/plain": [
       "26771"
      ]
     },
     "execution_count": 14,
     "metadata": {},
     "output_type": "execute_result"
    }
   ],
   "source": [
    "df_new.iloc[37329].retweet_count"
   ]
  },
  {
   "cell_type": "code",
   "execution_count": 15,
   "metadata": {
    "collapsed": true
   },
   "outputs": [
    {
     "data": {
      "text/plain": [
       "20340              \"@JordanWells119: I forgot how much I love #TheApprentice and Trump, so glad I'm watching this season! All hail king @realDonaldTrump\"\n",
       "20341                                              \"@caejh: Got out of class and immediately turned Donald Trump on as loud as I could. It's the weekend\"\n",
       "20342                                                                         \"@uf9606084212012: @realDonaldTrump please save us run #savior got my vote\"\n",
       "20343                                                                                         \"@Jackshallis: @realDonaldTrump Donald Trump for president\"\n",
       "20344                                                                              \"@ZyeZHE: @realDonaldTrump @MissUniverse Top 6 http://t.co/7Z5o8eCGa8\"\n",
       "20345        \"@BJKizer74:DonaldTrump Why do we keep putting the same people on the Republican ticket for POTUS? Romney? Bush? Cruz? Paul? #YourTimeIsNow\"\n",
       "20346                                  \"@Gilmore747: Miss Universe Top Contender this year? Y or N @realDonaldTrump #MissUniverse http://t.co/Ze7AREdGVl\"\n",
       "20347                                                \"@PatricijaBelous: This man is our everyting!!! @realDonaldTrump @TrumpDoral http://t.co/XGT2nmwQUD\"\n",
       "20348                                                         \"@Tigre_Hoy: “@realDonaldTrump: \"@Jackshallis: @realDonaldTrump Donald Trump for president\"\n",
       "20349                                                                                \"@yeenkochchapong: @realDonaldTrump Thailand http://t.co/Xl3scYVOTG\"\n",
       "20350                \"@Tigre_Hoy:  @MissUniverse Top 6 http://t.co/7Z5o8eCGa8\"” Si llega a Presidente, la primer medida dentro de los primeros 100 días.\"\n",
       "20351            Monday night at 8:00 will be must see television. Our wonderful Joan Rivers plays a major role as my advisor on the Apprentice. AMAZING!\n",
       "20352                                           Via @FNStylecom: \"Donald Trump's HEARTBREAKING @ApprenticeNBC @Joan_Rivers Choice\" http://t.co/4jtDUdN2S8\n",
       "20353             Via @fitsnews:  \"Donald Trump Knows How To (Tea) Party - THE DONALD PLANS SPLASHY LANDING IN MYRTLE BEACH, S.C.\" http://t.co/I63Pftqv7e\n",
       "20354                          \"@northlander8: @ByronYork I like @GovChristie  @realDonaldTrump they have the fire that's needed! And they love the USA!\"\n",
       "20355                                \"@Kbherman: 75 degrees and perfect @TrumpGolfLA Beautiful work @realDonaldTrump !!! http://t.co/of5KTtJ4Pz\"  Thanks.\n",
       "20356                                 \"@MuaRia_: @realDonaldTrump can't wait for the Miss Universe Pageant! Hopefully another Latina takes the crown. 💃👑\"\n",
       "20357                                                    \"@pjleger: @realDonaldTrump In my opinion this is the best season of The Celebrity Apprentice!!\"\n",
       "20358                                                            “Donald Trump to headline SC Tea Party Convention” http://t.co/0ja1yS3gXO via @wyffnews4\n",
       "20359                             \"@Mr_Babble: \"@BernardCastro3: @realDonaldTrump Whether it's the original or celebrity version,I love @ApprenticeNBC.\"\"\n",
       "20360                                                                         \"@AHataas: @realDonaldTrump @Tigre_Hoy @MissUniverse Go Miss Philippines!!\"\n",
       "20361                                                  \"@Desify: @realDonaldTrump @notTeridax @AlphaQuintesson You got tweeted by D Trump? Ur a legend..\"\n",
       "20362                                  \"@notTeridax: hey @realDonaldTrump you'd be the best president ever if you ran, right now you're hotter than ever!\n",
       "20363                                                                  \"@AllieKAT129: @realDonaldTrump I don't know what you do but your doing it right.\"\n",
       "20364                                                                 \"@ApprenticeNBC: In Memory of @Joan_Rivers\" http://t.co/9kER9Wxjky via @TVGrapevine\n",
       "20365          Via @NOLAnews by @DaveWalkerTV: \"Donald Trump praises @Joan_Rivers as 'strong,' 'vibrant' in @ApprenticeNBC return\" http://t.co/X3UZtSil1G\n",
       "20366                                    \"@AngieMcMonigal: A glorious winter afternoon in #Chicago @TrumpChicago @realDonaldTrump http://t.co/5Eb1bKQhPD\"\n",
       "20367                                               \"@SritaColombia: Do you think that #MissUniverse is like a world cup? TOTALLY AGREE @realDonaldTrump\"\n",
       "20368        \"@EwaldRadio: I mean, am I the only person who thinks that @HRBlock is totally ripping off @realDonaldTrump with their commercial? They suck\n",
       "20369    \"@DanScavino:Tom Brady &amp; @realDonaldTrump make for solid golf partners at Trump National Golf Club. #PatriotsVSColts http://t.co/d2t8XAjf4x\"\n",
       "20370                    \"@stkhlder3: @BrandiGlanville awww looks like such fun! #TeamBrandi I'm loving ya on @ApprenticeNBC !! Good job @realDonaldTrump\n",
       "20371            \"@littlefire:  From Ayrshire to NYC. I was singing in NY on Saturday. Staying at the University Club and saw your Trump Tower, awesome!\"\n",
       "20372             \"@sgjbservices: @realDonaldTrump  @TrumpChicago I don't care what u say about him...to build these things is beyond impressive period!\"\n",
       "20373                                                                          I look forward to being in South Carolina tomorrow, a total sellout crowd!\n",
       "20374                                                                                       I will be on @foxandfriends  tomorrow morning at 7:00. Enjoy!\n",
       "20375                                             The Apprentice will be very exciting and interesting tonight at 8:00. Joan Rivers puts on a great show!\n",
       "20376                                                                                                                   .@foxandfriends  in five minutes!\n",
       "20377        \"@vivianbrown21:Can't WAIT till tonight To see EpisodeW/\"JOAN RIVERS\"!!a true Winner!! Hope you PayTribute to her GREATNESS! ♡JOAN#RIVERS !\"\n",
       "20378                                      \"@MarkSimoneNY: @realDonaldTrump Slams Romney 2016: ‘He Choked like a Dog’ Last Time http://t.co/WZgeaeeDqw …\"\n",
       "20379             \"@abbydNYC: “@realDonaldTrump: The Apprentice will be very exciting and interesting tonight at 8:00. Joan Rivers puts on a great show!”\n",
       "20380               Via @myrbeachonline by @TSN_MPrabhu: \"Donald Trump states case for becoming POTUS at SC Tea Party convention\"\\nhttp://t.co/b3HWGXEkXu\n",
       "20381                       Via @CarolinaLive by @JoelAllenWPDE:“Big names wrap up largest ever SC Tea Party Coalition Convention” http://t.co/52xCeywzZp\n",
       "20382                                                             Joan Rivers on The Apprentice tonight at 8:00. I will be live tweeting. JOAN WAS GREAT!\n",
       "20383              \"@abbydNYC: “@realDonaldTrump: The Apprentice will be very exciting and interesting tonight at 8:00. Joan Rivers puts on a great show!\n",
       "20384                                                                                                \"@ShortCakesSheep: @realDonaldTrump I can't wait!!!\"\n",
       "20385                                         \"@JFoxy: @BabcocksFlyHair @realDonaldTrump do not listen don you are great and should be presidant\" Thanks.\n",
       "20386                   \"@RealityTVBliss: Tune into #CelebrityApprentice at 8 PM EST on #NBC with the beautiful &amp; smart @KenyaMoore @realDonaldTrump\"\n",
       "20387                                                      \"@Antonio_Annesi: @realDonaldTrump Always look forward to Monday nights! #CelebrityApprentice\"\n",
       "20388                                                                       \"@AdiScurtu: Time for my weekly fix of #CelebrityApprentice @realDonaldTrump\"\n",
       "20389                                                                   \"@TimboWoods: @realDonaldTrump can't wait for tonight's show. #TrumpForPresident\"\n",
       "20390                                               \"@rickvanhouse: @realDonaldTrump Cigars, scotch and The Apprentice. The best. http://t.co/Pa82l6j4ZC\"\n",
       "20391                      \"@keithwmcandrew: It's going to be an emotional @ApprenticeNBC tonight with @Joan_Rivers final TV appearance. #CelebApprentice\n",
       "20392                                                            \"@Tamster613: Who is watching @ApprenticeNBC with me? #CelebApprentice @realDonaldTrump\"\n",
       "20393                                                               \"@NatashaOwnfan: @realDonaldTrump @ApprenticeNBC tick tock it's here, love this show\"\n",
       "20394                  \"@Dm1one: Not feeling well today, but I must take the time 4 #CelebrityApprentice &amp; #JoanRivers #CelebApprentice Great Season!\n",
       "20395                                                                \"@Madisonbb11: @realDonaldTrump The theme song NEVER gets old. #CelebrityApprentice\"\n",
       "20396            \"@HoganSeaisle129: @ApprenticeNBC @realDonaldTrump @DonaldJTrumpJr @Joan_Rivers beautiful tribute to the fabulous Joan rivers and Ivanka\n",
       "20397                             \"@TheStangShow: @realDonaldTrump you the man! You can never be too young to be a fan of you! #donaldtrumprocks\" Thanks.\n",
       "20398                      \"@sabrinabrierowe: @CelebApprentice @realDonaldTrump Rushed home to watch my FAVORITE show #CelebApprentice ..... @TuLa2Nails\"\n",
       "20399             \"AIR FORCE TRUMP: AHEAD OF 2016, THE DONALD SLAMS ROMNEY, BUSH IN SOUTH CAROLINA\" http://t.co/DIMQdF1nxC via @BreitbartNews by @mboyle1\n",
       "Name: text, dtype: object"
      ]
     },
     "execution_count": 15,
     "metadata": {},
     "output_type": "execute_result"
    }
   ],
   "source": [
    "text_of_tweets = df_new['text']\n",
    "text_of_tweets[20340 : 20400]"
   ]
  },
  {
   "cell_type": "code",
   "execution_count": 16,
   "metadata": {},
   "outputs": [],
   "source": [
    "# Apply a first round of text cleaning techniques\n",
    "import re\n",
    "import string\n",
    "\n",
    "def clean_text(txt):\n",
    "    '''Make text lowercase, remove text in square brackets, remove punctuation and remove words containing numbers.'''\n",
    "    txt = txt.lower()\n",
    "    txt = re.sub('\\[.*?@\\#]', ' ', txt)\n",
    "    txt = re.sub('[%s]' % re.escape(string.punctuation), '', txt)\n",
    "    txt = re.sub('\\w*\\d\\w*', ' ', txt)\n",
    "    txt = re.sub('\\n', ' ', txt)\n",
    "    return txt\n",
    "\n",
    "round1 = lambda x: clean_text(x)"
   ]
  },
  {
   "cell_type": "code",
   "execution_count": 18,
   "metadata": {},
   "outputs": [
    {
     "data": {
      "text/plain": [
       "20340      i forgot how much i love theapprentice and trump so glad im watching this season all hail king realdonaldtrump\n",
       "20341                    caejh got out of class and immediately turned donald trump on as loud as i could its the weekend\n",
       "20342                                                               realdonaldtrump please save us run savior got my vote\n",
       "20343                                                              jackshallis realdonaldtrump donald trump for president\n",
       "20344                                                                         zyezhe realdonaldtrump missuniverse top    \n",
       "20345       why do we keep putting the same people on the republican ticket for potus romney bush cruz paul yourtimeisnow\n",
       "20346                                         miss universe top contender this year y or n realdonaldtrump missuniverse  \n",
       "20347                                              patricijabelous this man is our everyting realdonaldtrump trumpdoral  \n",
       "20348                                    tigrehoy “realdonaldtrump jackshallis realdonaldtrump donald trump for president\n",
       "20349                                                                          yeenkochchapong realdonaldtrump thailand  \n",
       "Name: text, dtype: object"
      ]
     },
     "execution_count": 18,
     "metadata": {},
     "output_type": "execute_result"
    }
   ],
   "source": [
    "# The updated text\n",
    "data_clean_first = pd.DataFrame(text_of_tweets.apply(round1))\n",
    "data_clean_first.text[20340:20350]\n",
    "#data_clean_first.head()\n",
    "\n"
   ]
  },
  {
   "cell_type": "code",
   "execution_count": 19,
   "metadata": {},
   "outputs": [],
   "source": [
    "# Apply a second round of cleaning\n",
    "def clean_text_round2(text):\n",
    "    '''Get rid of some additional punctuation and non-sensical text that was missed the first time around.'''\n",
    "    text = re.sub('[‘’“”…]', ' ', text)\n",
    "    text = re.sub('\\n', ' ', text)\n",
    "    return text\n",
    "\n",
    "round2 = lambda x: clean_text_round2(x)"
   ]
  },
  {
   "cell_type": "code",
   "execution_count": 21,
   "metadata": {
    "scrolled": true
   },
   "outputs": [
    {
     "data": {
      "text/plain": [
       "40030        i am in south korea now president moon and i have  toasted  our new trade deal a far better one for us than that   \n",
       "40031        the highly respected farm journal has just announced my approval rating with our great farmers at   and that des   \n",
       "40032         the leaders of virtually every country that i met at the   congratulated me on our great economy many countries   \n",
       "40033    rt thebluehousekr realdonaldtrump   hellopolicy mofakr secpompeo 오울렛 초소에서 브리핑을 받고 북측을 바라보며 대화하는 한미 정상의 모습 오울렛 초소는 한국전쟁 \n",
       "40034       leaving south korea after a wonderful meeting with chairman kim jong un stood on the soil of north korea an impor   \n",
       "Name: text, dtype: object"
      ]
     },
     "execution_count": 21,
     "metadata": {},
     "output_type": "execute_result"
    }
   ],
   "source": [
    "# The updated text\n",
    "data_clean_second = pd.DataFrame(data_clean_first.text.apply(round2))\n",
    "data_clean_second.text[40030:40035]\n",
    "#data_clean_second.head()"
   ]
  },
  {
   "cell_type": "code",
   "execution_count": 22,
   "metadata": {},
   "outputs": [],
   "source": [
    "# Apply a third round of cleaning\n",
    "def clean_text_round3(text):\n",
    "    '''Get rid of the http sites.'''\n",
    "    text = re.sub('http\\\\w*', ' ', text)\n",
    "    \n",
    "    return text\n",
    "\n",
    "round3 = lambda x: clean_text_round3(x)"
   ]
  },
  {
   "cell_type": "code",
   "execution_count": 23,
   "metadata": {},
   "outputs": [
    {
     "data": {
      "text/plain": [
       "'rt abeshinzo フロリダに到着し、早速トランプ大統領との首脳会談に臨みました。今日は、大半を北朝鮮問題に費やし、非常に重要な点で認識を一致させることができました。 「日本のために最善となるようベストを尽くす」 トランプ大統領は、来る米朝首脳会談で拉致問題を取り上げ '"
      ]
     },
     "execution_count": 23,
     "metadata": {},
     "output_type": "execute_result"
    }
   ],
   "source": [
    "# The updated text\n",
    "data_clean_third = pd.DataFrame(data_clean_second.text.apply(round3))\n",
    "data_clean_third.text[34757]"
   ]
  },
  {
   "cell_type": "code",
   "execution_count": 24,
   "metadata": {
    "scrolled": true
   },
   "outputs": [],
   "source": [
    "# Create a document-term matrix using CountVectorizer, and exclude common English stop words\n",
    "from sklearn.feature_extraction.text import CountVectorizer\n",
    "from scipy.sparse import csr_matrix\n",
    "import pickle\n",
    "\n",
    "cv = CountVectorizer(stop_words='english')\n",
    "data_dtm = pd.DataFrame(cv.fit_transform(data_clean_third.text).toarray(), columns=cv.get_feature_names())"
   ]
  },
  {
   "cell_type": "code",
   "execution_count": 25,
   "metadata": {},
   "outputs": [],
   "source": [
    "list_for_drop = cv.get_feature_names()[-72:-1]\n"
   ]
  },
  {
   "cell_type": "code",
   "execution_count": 27,
   "metadata": {},
   "outputs": [
    {
     "data": {
      "text/plain": [
       "'rt abeshinzo フロリダに到着し、早速トランプ大統領との首脳会談に臨みました。今日は、大半を北朝鮮問題に費やし、非常に重要な点で認識を一致させることができました。 「日本のために最善となるようベストを尽くす」 トランプ大統領は、来る米朝首脳会談で拉致問題を取り上げ '"
      ]
     },
     "execution_count": 27,
     "metadata": {},
     "output_type": "execute_result"
    }
   ],
   "source": [
    "data_clean_third.text[34757]"
   ]
  },
  {
   "cell_type": "code",
   "execution_count": 28,
   "metadata": {},
   "outputs": [
    {
     "name": "stdout",
     "output_type": "stream",
     "text": [
      "33681  ありがとうございます\n",
      "33697  そして\n",
      "33697  アジア歴訪の大成功をお祈りしています\n",
      "33697  トランプ大統領\n",
      "33697  トランプ大統領による\n",
      "33697  ドナルド\n",
      "33697  初の\n",
      "33697  日米同盟の揺るぎない絆を世界に示すことができました\n",
      "33697  本当にありがとう\n",
      "33697  歴史的な日本訪問は\n",
      "33697  間違いなく\n",
      "34757  トランプ大統領\n",
      "34757  トランプ大統領は\n",
      "34757  フロリダに到着し\n",
      "34757  今日は\n",
      "34757  大半を北朝鮮問題に費やし\n",
      "34757  日本のために最善となるようベストを尽くす\n",
      "34757  早速トランプ大統領との首脳会談に臨みました\n",
      "34757  来る米朝首脳会談で拉致問題を取り上げ\n",
      "34757  非常に重要な点で認識を一致させることができました\n",
      "37239  この機会を活かし\n",
      "37239  という共通の目標に向かって\n",
      "37239  トランプ大統領\n",
      "37239  モディ首相と\n",
      "37239  初めてとなる日米印三か国による首脳会談を行いました\n",
      "37239  緊密に連携していくことで一致しました\n",
      "37239  自由で開かれたインド太平洋\n",
      "37956  رژیم\n",
      "37956  سال\n",
      "37956  سرکوب\n",
      "37956  شده\n",
      "37956  فساد\n",
      "37956  فقط\n",
      "37956  مدتهاست\n",
      "37956  مردم\n",
      "37956  موجب\n",
      "37956  چهلسالشکست\n",
      "37956  که\n",
      "38903  そして\n",
      "38903  そして本日のゴルフと\n",
      "38903  北朝鮮問題への対応\n",
      "38903  昨日の首脳会談\n",
      "38903  更には世界情勢に至るまで\n",
      "38903  本日\n",
      "38903  様々な課題についてじっくりと話をすることができました\n",
      "38903  経済\n",
      "39505  トランプ大統領\n",
      "39505  日本へようこそ\n",
      "39507  トランプ大統領\n",
      "39507  令和初の国賓としてお迎えしたトランプ大統領と千葉でゴルフです\n",
      "39507  初の\n",
      "39507  新しい令和の時代も日米同盟をさらに揺るぎないものとしていきたいと考えています\n",
      "39515  トランプ大統領\n",
      "39515  トランプ大統領は\n",
      "39515  トランプ大統領は安倍首相と共に皇居での歓迎式典に出席しました\n",
      "39517  トランプ大統領\n",
      "39517  トランプ大統領とメラニア夫人は\n",
      "39517  天皇\n",
      "39517  皇后両陛下との会見に臨みました\n",
      "39535  かが\n",
      "39535  を訪問しました\n",
      "39535  トランプ大統領\n",
      "39535  トランプ大統領と共に\n",
      "39535  史上初めてのことです\n",
      "39535  日米両国の首脳が揃って\n",
      "39535  本日\n",
      "39535  海上自衛隊の護衛艦\n",
      "39535  米軍を激励するのは\n",
      "39535  総理メッセージの続きは\n",
      "39535  自衛隊\n",
      "40033  대화하는\n",
      "40033  모습\n",
      "40033  바라보며\n",
      "40033  받고\n",
      "40033  북측을\n",
      "40033  브리핑을\n",
      "40033  오울렛\n",
      "40033  정상의\n",
      "40033  초소는\n",
      "40033  초소에서\n",
      "40033  한국전쟁\n",
      "40033  한미\n"
     ]
    }
   ],
   "source": [
    "number_for_drop = []\n",
    "for i in range(len(data_clean_third.text)-1):\n",
    "    for sign in list_for_drop:\n",
    "        if re.search(sign, data_clean_third.text[i]):\n",
    "            print(i, '', sign)\n",
    "            number_for_drop.append(i)\n",
    "            \n"
   ]
  },
  {
   "cell_type": "code",
   "execution_count": 21,
   "metadata": {},
   "outputs": [
    {
     "data": {
      "text/plain": [
       "83"
      ]
     },
     "execution_count": 21,
     "metadata": {},
     "output_type": "execute_result"
    }
   ],
   "source": [
    "len(number_for_drop)"
   ]
  },
  {
   "cell_type": "code",
   "execution_count": null,
   "metadata": {},
   "outputs": [],
   "source": []
  }
 ],
 "metadata": {
  "kernelspec": {
   "display_name": "Python 3",
   "language": "python",
   "name": "python3"
  },
  "language_info": {
   "codemirror_mode": {
    "name": "ipython",
    "version": 3
   },
   "file_extension": ".py",
   "mimetype": "text/x-python",
   "name": "python",
   "nbconvert_exporter": "python",
   "pygments_lexer": "ipython3",
   "version": "3.7.3"
  }
 },
 "nbformat": 4,
 "nbformat_minor": 2
}
