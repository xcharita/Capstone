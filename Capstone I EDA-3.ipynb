{
 "cells": [
  {
   "cell_type": "code",
   "execution_count": 147,
   "metadata": {},
   "outputs": [],
   "source": [
    "import numpy as np\n",
    "import pandas as pd\n",
    "import json\n",
    "import ndjson\n",
    "import os\n",
    "import pdb\n",
    "import matplotlib.pyplot as plt\n",
    "#import jsonlines"
   ]
  },
  {
   "cell_type": "code",
   "execution_count": 148,
   "metadata": {},
   "outputs": [],
   "source": [
    "# set column width because of the max characters of 140 allowed in a tweet\n",
    "pd.options.display.max_colwidth=200"
   ]
  },
  {
   "cell_type": "code",
   "execution_count": 149,
   "metadata": {},
   "outputs": [],
   "source": [
    "# read the entire file into a python array\n",
    "with open('realdonaldtrump.ndjson', encoding='utf8') as f:\n",
    "    data = ndjson.load(f)\n"
   ]
  },
  {
   "cell_type": "code",
   "execution_count": 150,
   "metadata": {},
   "outputs": [],
   "source": [
    "#place file into a dataframe for further exploratoritive use\n",
    "df = pd.DataFrame(data)"
   ]
  },
  {
   "cell_type": "code",
   "execution_count": 151,
   "metadata": {},
   "outputs": [
    {
     "data": {
      "text/plain": [
       "40241"
      ]
     },
     "execution_count": 151,
     "metadata": {},
     "output_type": "execute_result"
    }
   ],
   "source": [
    "len(df)"
   ]
  },
  {
   "cell_type": "code",
   "execution_count": 152,
   "metadata": {},
   "outputs": [
    {
     "data": {
      "text/plain": [
       "Index(['contributors', 'coordinates', 'created_at', 'entities',\n",
       "       'favorite_count', 'favorited', 'geo', 'id', 'id_str',\n",
       "       'in_reply_to_screen_name', 'in_reply_to_status_id',\n",
       "       'in_reply_to_status_id_str', 'in_reply_to_user_id',\n",
       "       'in_reply_to_user_id_str', 'is_quote_status', 'lang', 'place',\n",
       "       'retrieved_utc', 'retweet_count', 'retweeted', 'source', 'text',\n",
       "       'truncated', 'user', 'possibly_sensitive', 'extended_entities',\n",
       "       'quoted_status', 'quoted_status_id', 'quoted_status_id_str',\n",
       "       'retweeted_status', 'withheld_copyright', 'withheld_in_countries',\n",
       "       'withheld_scope', 'scopes'],\n",
       "      dtype='object')"
      ]
     },
     "execution_count": 152,
     "metadata": {},
     "output_type": "execute_result"
    }
   ],
   "source": [
    "df.columns"
   ]
  },
  {
   "cell_type": "code",
   "execution_count": 6,
   "metadata": {},
   "outputs": [
    {
     "data": {
      "text/plain": [
       "321390"
      ]
     },
     "execution_count": 6,
     "metadata": {},
     "output_type": "execute_result"
    }
   ],
   "source": [
    "max(df.retweet_count)"
   ]
  },
  {
   "cell_type": "code",
   "execution_count": 154,
   "metadata": {},
   "outputs": [
    {
     "name": "stdout",
     "output_type": "stream",
     "text": [
      "contributors                                                                                                                                                                                                                    None\n",
      "coordinates                                                                                                                                                                                                                     None\n",
      "created_at                                                                                                                                                                                            Tue Nov 08 11:43:14 +0000 2016\n",
      "entities                                                                                                                                                            {'hashtags': [], 'symbols': [], 'urls': [], 'user_mentions': []}\n",
      "favorite_count                                                                                                                                                                                                                527916\n",
      "favorited                                                                                                                                                                                                                      False\n",
      "geo                                                                                                                                                                                                                             None\n",
      "id                                                                                                                                                                                                                795954831718498305\n",
      "id_str                                                                                                                                                                                                            795954831718498305\n",
      "in_reply_to_screen_name                                                                                                                                                                                                         None\n",
      "in_reply_to_status_id                                                                                                                                                                                                            NaN\n",
      "in_reply_to_status_id_str                                                                                                                                                                                                       None\n",
      "in_reply_to_user_id                                                                                                                                                                                                              NaN\n",
      "in_reply_to_user_id_str                                                                                                                                                                                                         None\n",
      "is_quote_status                                                                                                                                                                                                                False\n",
      "lang                                                                                                                                                                                                                              en\n",
      "place                                                                                                                                                                                                                           None\n",
      "retrieved_utc                                                                                                                                                                                                            1.56287e+09\n",
      "retweet_count                                                                                                                                                                                                                 304592\n",
      "retweeted                                                                                                                                                                                                                      False\n",
      "source                                                                                                                                          <a href=\"http://twitter.com/download/android\" rel=\"nofollow\">Twitter for Android</a>\n",
      "text                                                                                                                                                                                              TODAY WE MAKE AMERICA GREAT AGAIN!\n",
      "truncated                                                                                                                                                                                                                      False\n",
      "user                         {'contributors_enabled': False, 'created_at': 'Wed Mar 18 13:46:38 +0000 2009', 'default_profile': False, 'default_profile_image': False, 'description': '45th President of the United States of Ame...\n",
      "possibly_sensitive                                                                                                                                                                                                               NaN\n",
      "extended_entities                                                                                                                                                                                                                NaN\n",
      "quoted_status                                                                                                                                                                                                                    NaN\n",
      "quoted_status_id                                                                                                                                                                                                                 NaN\n",
      "quoted_status_id_str                                                                                                                                                                                                             NaN\n",
      "retweeted_status                                                                                                                                                                                                                 NaN\n",
      "withheld_copyright                                                                                                                                                                                                               NaN\n",
      "withheld_in_countries                                                                                                                                                                                                            NaN\n",
      "withheld_scope                                                                                                                                                                                                                   NaN\n",
      "scopes                                                                                                                                                                                                                           NaN\n",
      "Name: 31324, dtype: object\n"
     ]
    }
   ],
   "source": [
    "print(df.loc[31324])"
   ]
  },
  {
   "cell_type": "code",
   "execution_count": 29,
   "metadata": {},
   "outputs": [
    {
     "name": "stdout",
     "output_type": "stream",
     "text": [
      "twitter.com/i/web/status/9…\n"
     ]
    }
   ],
   "source": [
    "print(df.iloc[34757]['retweeted_status']['entities']['urls'][0]['display_url'][:])"
   ]
  },
  {
   "cell_type": "code",
   "execution_count": 8,
   "metadata": {},
   "outputs": [
    {
     "data": {
      "text/html": [
       "<div>\n",
       "<style scoped>\n",
       "    .dataframe tbody tr th:only-of-type {\n",
       "        vertical-align: middle;\n",
       "    }\n",
       "\n",
       "    .dataframe tbody tr th {\n",
       "        vertical-align: top;\n",
       "    }\n",
       "\n",
       "    .dataframe thead th {\n",
       "        text-align: right;\n",
       "    }\n",
       "</style>\n",
       "<table border=\"1\" class=\"dataframe\">\n",
       "  <thead>\n",
       "    <tr style=\"text-align: right;\">\n",
       "      <th></th>\n",
       "      <th>contributors</th>\n",
       "      <th>coordinates</th>\n",
       "      <th>created_at</th>\n",
       "      <th>entities</th>\n",
       "      <th>favorite_count</th>\n",
       "      <th>favorited</th>\n",
       "      <th>geo</th>\n",
       "      <th>id</th>\n",
       "      <th>id_str</th>\n",
       "      <th>in_reply_to_screen_name</th>\n",
       "      <th>...</th>\n",
       "      <th>possibly_sensitive</th>\n",
       "      <th>extended_entities</th>\n",
       "      <th>quoted_status</th>\n",
       "      <th>quoted_status_id</th>\n",
       "      <th>quoted_status_id_str</th>\n",
       "      <th>retweeted_status</th>\n",
       "      <th>withheld_copyright</th>\n",
       "      <th>withheld_in_countries</th>\n",
       "      <th>withheld_scope</th>\n",
       "      <th>scopes</th>\n",
       "    </tr>\n",
       "  </thead>\n",
       "  <tbody>\n",
       "  </tbody>\n",
       "</table>\n",
       "<p>0 rows × 34 columns</p>\n",
       "</div>"
      ],
      "text/plain": [
       "Empty DataFrame\n",
       "Columns: [contributors, coordinates, created_at, entities, favorite_count, favorited, geo, id, id_str, in_reply_to_screen_name, in_reply_to_status_id, in_reply_to_status_id_str, in_reply_to_user_id, in_reply_to_user_id_str, is_quote_status, lang, place, retrieved_utc, retweet_count, retweeted, source, text, truncated, user, possibly_sensitive, extended_entities, quoted_status, quoted_status_id, quoted_status_id_str, retweeted_status, withheld_copyright, withheld_in_countries, withheld_scope, scopes]\n",
       "Index: []\n",
       "\n",
       "[0 rows x 34 columns]"
      ]
     },
     "execution_count": 8,
     "metadata": {},
     "output_type": "execute_result"
    }
   ],
   "source": [
    "# creating bool series True for NaN values  \n",
    "bool_series = pd.isnull(df['retweet_count'])  \n",
    "    \n",
    "# filtering data\n",
    "df[bool_series]  "
   ]
  },
  {
   "cell_type": "code",
   "execution_count": 9,
   "metadata": {},
   "outputs": [
    {
     "name": "stdout",
     "output_type": "stream",
     "text": [
      "671\n"
     ]
    }
   ],
   "source": [
    "print(np.sum([df['lang'] != 'en']))"
   ]
  },
  {
   "cell_type": "code",
   "execution_count": 10,
   "metadata": {},
   "outputs": [],
   "source": [
    "list_for_drop = []\n",
    "for i in range(len(df)):\n",
    "    if (df.lang[i] != 'en'):\n",
    "        list_for_drop.append(i)"
   ]
  },
  {
   "cell_type": "code",
   "execution_count": 11,
   "metadata": {},
   "outputs": [
    {
     "name": "stdout",
     "output_type": "stream",
     "text": [
      "671\n"
     ]
    }
   ],
   "source": [
    "print(len(list_for_drop))"
   ]
  },
  {
   "cell_type": "code",
   "execution_count": 12,
   "metadata": {},
   "outputs": [],
   "source": [
    "df_new = df.drop(list_for_drop)"
   ]
  },
  {
   "cell_type": "code",
   "execution_count": 13,
   "metadata": {},
   "outputs": [
    {
     "data": {
      "text/plain": [
       "39570"
      ]
     },
     "execution_count": 13,
     "metadata": {},
     "output_type": "execute_result"
    }
   ],
   "source": [
    "len(df_new)"
   ]
  },
  {
   "cell_type": "code",
   "execution_count": 14,
   "metadata": {},
   "outputs": [
    {
     "data": {
      "text/plain": [
       "'Thu Oct 06 13:49:25 +0000 2011'"
      ]
     },
     "execution_count": 14,
     "metadata": {},
     "output_type": "execute_result"
    }
   ],
   "source": [
    "df_new.created_at[627]"
   ]
  },
  {
   "cell_type": "code",
   "execution_count": 15,
   "metadata": {},
   "outputs": [],
   "source": [
    "plot_d = df_new['created_at']"
   ]
  },
  {
   "cell_type": "code",
   "execution_count": 133,
   "metadata": {},
   "outputs": [],
   "source": [
    "from datetime import datetime\n",
    "import time\n",
    "\n",
    "x = [datetime.strptime(elem, '%a %b %d %H:%M:%S +0000 %Y').date() for elem in plot_d]\n",
    "y = df_new.retweet_count\n",
    "z = pd.DataFrame(x)\n",
    "max_retweet = df_new.retweet_count.max()"
   ]
  },
  {
   "cell_type": "code",
   "execution_count": 155,
   "metadata": {},
   "outputs": [
    {
     "name": "stdout",
     "output_type": "stream",
     "text": [
      "       contributors  coordinates  created_at  entities  favorite_count  \\\n",
      "31324         False        False       False     False           False   \n",
      "\n",
      "       favorited    geo     id  id_str  in_reply_to_screen_name  ...  \\\n",
      "31324      False  False  False   False                    False  ...   \n",
      "\n",
      "       possibly_sensitive  extended_entities  quoted_status  quoted_status_id  \\\n",
      "31324               False              False          False             False   \n",
      "\n",
      "       quoted_status_id_str  retweeted_status  withheld_copyright  \\\n",
      "31324                 False             False               False   \n",
      "\n",
      "       withheld_in_countries  withheld_scope  scopes  \n",
      "31324                  False           False   False  \n",
      "\n",
      "[1 rows x 34 columns]\n"
     ]
    }
   ],
   "source": [
    "#print(z)\n",
    "print(df_new[df_new.retweet_count == max_retweet] == True)\n",
    "#print(df_new.loc[31324].text)"
   ]
  },
  {
   "cell_type": "code",
   "execution_count": 83,
   "metadata": {},
   "outputs": [
    {
     "data": {
      "image/png": "[encoded data removed]",
      "text/plain": [
       "<Figure size 432x288 with 1 Axes>"
      ]
     },
     "metadata": {
      "needs_background": "light"
     },
     "output_type": "display_data"
    }
   ],
   "source": [
    "plt.plot(z, y)\n",
    "plt.axvline(x=datetime.strptime('11-2016', '%m-%Y'),color='g',linestyle='--', label='elected as president')\n",
    "plt.axvline(x=datetime.strptime('01-2017', '%m-%Y'),color='r',linestyle='--', label='inaugurated as president')\n",
    "plt.axvline(x=datetime.strptime('06-2015', '%m-%Y'),color='y',linestyle='--', label='formal launch of campaign')\n",
    "plt.legend()\n",
    "plt.show()"
   ]
  },
  {
   "cell_type": "code",
   "execution_count": 90,
   "metadata": {},
   "outputs": [
    {
     "data": {
      "text/plain": [
       "<matplotlib.legend.Legend at 0x13faaa850>"
      ]
     },
     "execution_count": 90,
     "metadata": {},
     "output_type": "execute_result"
    },
    {
     "data": {
      "image/png": "[encoded data removed]",
      "text/plain": [
       "<Figure size 432x288 with 1 Axes>"
      ]
     },
     "metadata": {
      "needs_background": "light"
     },
     "output_type": "display_data"
    }
   ],
   "source": [
    "plt.scatter(z[0],y)\n",
    "plt.axvline(x=datetime.strptime('11-2016', '%m-%Y'),color='g',linestyle='--', label='elected as president')\n",
    "plt.axvline(x=datetime.strptime('01-2017', '%m-%Y'),color='r',linestyle='--', label='inaugurated as president')\n",
    "plt.axvline(x=datetime.strptime('06-2015', '%m-%Y'),color='y',linestyle='--', label='formal launch of campaign')\n",
    "plt.legend()"
   ]
  },
  {
   "cell_type": "markdown",
   "metadata": {},
   "source": [
    "\n",
    "# Clean the data by:\n",
    "\n",
    "1. Removing all irrelevant characters such as any non alphanumeric characters\n",
    "2. Tokenize the text by separating it into individual words\n",
    "3. Remove words that are not relevant, such as “@” twitter mentions or urls\n",
    "4. Convert all characters to lowercase, in order to treat words such as “hello”, “Hello”, and “HELLO” the same\n",
    "5. Considering combining misspelled or alternately spelled words to a single representation (e.g. “cool”/”kewl”/”cooool”)\n",
    "6. Considering lemmatization (reduce words such as “am”, “are”, and “is” to a common form such as “be”)"
   ]
  },
  {
   "cell_type": "code",
   "execution_count": 91,
   "metadata": {},
   "outputs": [],
   "source": [
    "df_clean = pd.DataFrame(df_new, columns = ('retweet_count', 'text'))"
   ]
  },
  {
   "cell_type": "code",
   "execution_count": 92,
   "metadata": {},
   "outputs": [
    {
     "data": {
      "text/plain": [
       "0         501\n",
       "1          33\n",
       "2          13\n",
       "3          12\n",
       "4        1422\n",
       "         ... \n",
       "40236    6331\n",
       "40237    7694\n",
       "40238    2540\n",
       "40239    4533\n",
       "40240    5236\n",
       "Name: retweet_count, Length: 39570, dtype: int64"
      ]
     },
     "execution_count": 92,
     "metadata": {},
     "output_type": "execute_result"
    }
   ],
   "source": [
    "df_clean.retweet_count"
   ]
  },
  {
   "cell_type": "code",
   "execution_count": 93,
   "metadata": {},
   "outputs": [],
   "source": [
    "text_of_tweets = df_clean['text']\n"
   ]
  },
  {
   "cell_type": "code",
   "execution_count": 120,
   "metadata": {},
   "outputs": [
    {
     "name": "stdout",
     "output_type": "stream",
     "text": [
      "text    10\n",
      "dtype: int64\n"
     ]
    }
   ],
   "source": [
    "#how many hashtags avg used in a tweet\n",
    "def check_hashtag(x):\n",
    "    count=0\n",
    "    for i in x:\n",
    "        if ('#' or '@') in i:\n",
    "            count+=1\n",
    "    return count\n",
    "\n",
    "hashtags = lambda h: check_hashtag(h)\n",
    "df_hashtags = pd.DataFrame(text_of_tweets.apply(hashtags))\n",
    "print(df_hashtags.max())"
   ]
  },
  {
   "cell_type": "code",
   "execution_count": 117,
   "metadata": {},
   "outputs": [
    {
     "data": {
      "image/png": "[encoded data removed]",
      "text/plain": [
       "<Figure size 432x288 with 1 Axes>"
      ]
     },
     "metadata": {
      "needs_background": "light"
     },
     "output_type": "display_data"
    }
   ],
   "source": [
    "plt.plot(z, df_hashtags)\n",
    "plt.axvline(x=datetime.strptime('11-2016', '%m-%Y'),color='g',linestyle='--', label='elected as president')\n",
    "plt.axvline(x=datetime.strptime('01-2017', '%m-%Y'),color='r',linestyle='--', label='inaugurated as president')\n",
    "plt.axvline(x=datetime.strptime('06-2015', '%m-%Y'),color='y',linestyle='--', label='formal launch of campaign')\n",
    "plt.legend()\n",
    "plt.show()"
   ]
  },
  {
   "cell_type": "code",
   "execution_count": 126,
   "metadata": {},
   "outputs": [
    {
     "name": "stdout",
     "output_type": "stream",
     "text": [
      "text    7064\n",
      "dtype: int64\n",
      "text    0.178519\n",
      "dtype: float64\n"
     ]
    }
   ],
   "source": [
    "print(df_hashtags.sum(skipna=True))\n",
    "print(df_hashtags.mean(skipna=True))"
   ]
  },
  {
   "cell_type": "code",
   "execution_count": null,
   "metadata": {},
   "outputs": [],
   "source": [
    "# Apply a first round of text cleaning techniques\n",
    "import re\n",
    "import string\n",
    "\n",
    "def clean_text(txt):\n",
    "    '''Make text lowercase, remove text in square brackets, remove punctuation and remove words containing numbers.'''\n",
    "    txt = txt.lower()\n",
    "    txt = re.sub('\\[.*?@\\#]', ' ', txt)\n",
    "    txt = re.sub('[%s]' % re.escape(string.punctuation), '', txt)\n",
    "    txt = re.sub('\\w*\\d\\w*', ' ', txt)\n",
    "    txt = re.sub('\\n', ' ', txt)\n",
    "    return txt\n",
    "\n",
    "round1 = lambda x: clean_text(x)"
   ]
  },
  {
   "cell_type": "code",
   "execution_count": null,
   "metadata": {},
   "outputs": [],
   "source": [
    "# The updated text\n",
    "data_clean_first = pd.DataFrame(text_of_tweets.apply(round1))\n",
    "data_clean_first.text[34757]\n",
    "#data_clean_first.head()\n",
    "\n"
   ]
  },
  {
   "cell_type": "code",
   "execution_count": null,
   "metadata": {},
   "outputs": [],
   "source": [
    "# Apply a second round of cleaning\n",
    "def clean_text_round2(text):\n",
    "    '''Get rid of some additional punctuation and non-sensical text that was missed the first time around.'''\n",
    "    text = re.sub('[‘’“”…]', ' ', text)\n",
    "    text = re.sub('\\n', ' ', text)\n",
    "    return text\n",
    "\n",
    "round2 = lambda x: clean_text_round2(x)"
   ]
  },
  {
   "cell_type": "code",
   "execution_count": null,
   "metadata": {},
   "outputs": [],
   "source": [
    "# The updated text\n",
    "data_clean_second = pd.DataFrame(data_clean_first.text.apply(round2))\n",
    "data_clean_second.text[40030:40035]\n",
    "#data_clean_second.head()"
   ]
  },
  {
   "cell_type": "code",
   "execution_count": null,
   "metadata": {},
   "outputs": [],
   "source": [
    "# Apply a third round of cleaning\n",
    "def clean_text_round3(text):\n",
    "    '''Get rid of the http sites.'''\n",
    "    text = re.sub('http\\\\w*', ' ', text)\n",
    "    \n",
    "    return text\n",
    "\n",
    "round3 = lambda x: clean_text_round3(x)"
   ]
  },
  {
   "cell_type": "code",
   "execution_count": null,
   "metadata": {},
   "outputs": [],
   "source": [
    "# The updated text\n",
    "data_clean_third = pd.DataFrame(data_clean_second.text.apply(round3))\n",
    "data_clean_third.text[34757]"
   ]
  },
  {
   "cell_type": "code",
   "execution_count": null,
   "metadata": {
    "scrolled": true
   },
   "outputs": [],
   "source": [
    "# Create a document-term matrix using CountVectorizer, and exclude common English stop words\n",
    "from sklearn.feature_extraction.text import CountVectorizer\n",
    "from scipy.sparse import csr_matrix\n",
    "import pickle\n",
    "\n",
    "cv = CountVectorizer(stop_words='english')\n",
    "data_dtm = pd.DataFrame(cv.fit_transform(data_clean_third.text).toarray(), columns=cv.get_feature_names())"
   ]
  },
  {
   "cell_type": "code",
   "execution_count": null,
   "metadata": {},
   "outputs": [],
   "source": [
    "list_for_drop = cv.get_feature_names()[-72:-1]\n"
   ]
  },
  {
   "cell_type": "code",
   "execution_count": null,
   "metadata": {},
   "outputs": [],
   "source": [
    "data_clean_third.text[34757]"
   ]
  },
  {
   "cell_type": "code",
   "execution_count": null,
   "metadata": {},
   "outputs": [],
   "source": [
    "number_for_drop = []\n",
    "for i in range(len(data_clean_third.text)-1):\n",
    "    for sign in list_for_drop:\n",
    "        if re.search(sign, data_clean_third.text[i]):\n",
    "            print(i, '', sign)\n",
    "            number_for_drop.append(i)\n",
    "            \n"
   ]
  },
  {
   "cell_type": "code",
   "execution_count": null,
   "metadata": {},
   "outputs": [],
   "source": [
    "len(number_for_drop)"
   ]
  },
  {
   "cell_type": "code",
   "execution_count": null,
   "metadata": {},
   "outputs": [],
   "source": []
  }
 ],
 "metadata": {
  "kernelspec": {
   "display_name": "Python 3",
   "language": "python",
   "name": "python3"
  },
  "language_info": {
   "codemirror_mode": {
    "name": "ipython",
    "version": 3
   },
   "file_extension": ".py",
   "mimetype": "text/x-python",
   "name": "python",
   "nbconvert_exporter": "python",
   "pygments_lexer": "ipython3",
   "version": "3.7.6"
  }
 },
 "nbformat": 4,
 "nbformat_minor": 2
}
